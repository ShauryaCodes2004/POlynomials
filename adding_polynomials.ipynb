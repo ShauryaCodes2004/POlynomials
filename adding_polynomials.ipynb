{
  "nbformat": 4,
  "nbformat_minor": 0,
  "metadata": {
    "colab": {
      "provenance": [],
      "authorship_tag": "ABX9TyP6VsPXvO05k9G4ouxV+Aln",
      "include_colab_link": true
    },
    "kernelspec": {
      "name": "python3",
      "display_name": "Python 3"
    },
    "language_info": {
      "name": "python"
    }
  },
  "cells": [
    {
      "cell_type": "markdown",
      "metadata": {
        "id": "view-in-github",
        "colab_type": "text"
      },
      "source": [
        "<a href=\"https://colab.research.google.com/github/ShauryaCodes2004/POlynomials/blob/main/adding_polynomials.ipynb\" target=\"_parent\"><img src=\"https://colab.research.google.com/assets/colab-badge.svg\" alt=\"Open In Colab\"/></a>"
      ]
    },
    {
      "cell_type": "markdown",
      "source": [
        "# **importing  modules**\n",
        "\n",
        "\n",
        "\n"
      ],
      "metadata": {
        "id": "3cxK4yHBv26V"
      }
    },
    {
      "cell_type": "code",
      "execution_count": 1,
      "metadata": {
        "id": "ccoLnqWcvva9"
      },
      "outputs": [],
      "source": [
        "import sympy as sym\n",
        "from IPython.display import display,Math\n",
        "\n"
      ]
    },
    {
      "cell_type": "code",
      "source": [
        "from sympy.abc import x\n",
        "p1 = 2*x**3 + x**2 - x\n",
        "display(Math(sym.latex(p1)))"
      ],
      "metadata": {
        "colab": {
          "base_uri": "https://localhost:8080/",
          "height": 39
        },
        "id": "ThuMkpKawKev",
        "outputId": "0d8cc838-b4fe-4512-8b3b-213c5cd3d8ee"
      },
      "execution_count": 2,
      "outputs": [
        {
          "output_type": "display_data",
          "data": {
            "text/plain": [
              "<IPython.core.display.Math object>"
            ],
            "text/latex": "$\\displaystyle 2 x^{3} + x^{2} - x$"
          },
          "metadata": {}
        }
      ]
    },
    {
      "cell_type": "code",
      "source": [
        "p2 = 3*x**3 + 2*x**2 + x\n",
        "display(Math(sym.latex(p2)))"
      ],
      "metadata": {
        "colab": {
          "base_uri": "https://localhost:8080/",
          "height": 39
        },
        "id": "JpcridglwKbJ",
        "outputId": "39c0ab06-2124-4e6f-d291-c3f0167cfb8a"
      },
      "execution_count": 5,
      "outputs": [
        {
          "output_type": "display_data",
          "data": {
            "text/plain": [
              "<IPython.core.display.Math object>"
            ],
            "text/latex": "$\\displaystyle 3 x^{3} + 2 x^{2} + x$"
          },
          "metadata": {}
        }
      ]
    },
    {
      "cell_type": "markdown",
      "source": [
        "# adding both the polynomials"
      ],
      "metadata": {
        "id": "Xiitu1UJwgu9"
      }
    },
    {
      "cell_type": "code",
      "source": [
        "p3 = p1 + p2\n",
        "display(Math(sym.latex(p3)))"
      ],
      "metadata": {
        "colab": {
          "base_uri": "https://localhost:8080/",
          "height": 39
        },
        "id": "HQfHs5kVwgYg",
        "outputId": "6596d106-8043-44ea-afb7-682989336bb7"
      },
      "execution_count": 6,
      "outputs": [
        {
          "output_type": "display_data",
          "data": {
            "text/plain": [
              "<IPython.core.display.Math object>"
            ],
            "text/latex": "$\\displaystyle 5 x^{3} + 3 x^{2}$"
          },
          "metadata": {}
        }
      ]
    },
    {
      "cell_type": "code",
      "source": [
        "p1 = sym.poly(x**2 - x + 2*x**3 )"
      ],
      "metadata": {
        "id": "JEY_JNZUwJ9z"
      },
      "execution_count": 8,
      "outputs": []
    },
    {
      "cell_type": "code",
      "source": [
        "p1.coeffs() = check"
      ],
      "metadata": {
        "colab": {
          "base_uri": "https://localhost:8080/"
        },
        "id": "bSGyBeIoxc3U",
        "outputId": "8ada91b6-fa27-41f7-c414-69d0032c461a"
      },
      "execution_count": 9,
      "outputs": [
        {
          "output_type": "execute_result",
          "data": {
            "text/plain": [
              "[2, 1, -1]"
            ]
          },
          "metadata": {},
          "execution_count": 9
        }
      ]
    },
    {
      "cell_type": "code",
      "source": [],
      "metadata": {
        "id": "uuPu6X7fyPks"
      },
      "execution_count": null,
      "outputs": []
    }
  ]
}